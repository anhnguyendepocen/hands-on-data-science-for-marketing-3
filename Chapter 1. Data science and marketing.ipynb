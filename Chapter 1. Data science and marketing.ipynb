{
 "cells": [
  {
   "cell_type": "markdown",
   "metadata": {},
   "source": [
    "# Chapter 1. Data science and marketing"
   ]
  },
  {
   "cell_type": "markdown",
   "metadata": {},
   "source": [
    "## 1.1 Technical requirements "
   ]
  },
  {
   "cell_type": "markdown",
   "metadata": {},
   "source": [
    "## 1.2 Trends in marketing "
   ]
  },
  {
   "cell_type": "markdown",
   "metadata": {},
   "source": [
    "### Rising importance of digital marketing"
   ]
  },
  {
   "cell_type": "markdown",
   "metadata": {},
   "source": [
    "Digital channels such as search engines, social network, email, websites"
   ]
  },
  {
   "cell_type": "markdown",
   "metadata": {},
   "source": [
    "### Marketing analytics"
   ]
  },
  {
   "cell_type": "markdown",
   "metadata": {},
   "source": [
    "Marketing analytics is a way of monitoring and analyzing the performance of marketing efforts "
   ]
  },
  {
   "cell_type": "markdown",
   "metadata": {},
   "source": [
    "### Personalized and target marketing"
   ]
  },
  {
   "cell_type": "markdown",
   "metadata": {},
   "source": [
    "Utilize machine learning algorithms to learn from the user history data and apply different and specialized marketing strategies to smaller and more specific subgroups of their user base, which results in lower cost per acquisition and higher return on investment. "
   ]
  },
  {
   "cell_type": "markdown",
   "metadata": {},
   "source": [
    "The overall trends in marketing have been toward more data driven and quantitative approaches"
   ]
  },
  {
   "cell_type": "markdown",
   "metadata": {},
   "source": [
    "## 1.3 Applications of data science in marketing "
   ]
  },
  {
   "cell_type": "markdown",
   "metadata": {},
   "source": [
    "### Descriptive versus explanatory versus predictive analyses"
   ]
  },
  {
   "cell_type": "markdown",
   "metadata": {},
   "source": [
    "**Descriptive analysis:** \n",
    "\n",
    "Conducted to understand and describe the given dataset better. The purpose of this analysis is to quantitatively and statistically summarize the information that the data contains.\n",
    "\n",
    "Use descriptive analysis to analyze and compute key summary statistics, key performance indicators, and visualizing the analysis results.\n",
    "\n",
    "Example: \"What is the best selling item? What were the monthly sales like in the past year? What is the average price of the items that are sold?\""
   ]
  },
  {
   "cell_type": "markdown",
   "metadata": {},
   "source": [
    "**Explanatory analysis:**\n",
    "\n",
    "When the purpose of descriptive analysis is to answer the what and how from the data, explanatory analysis is to answer why using the data. This type of analysis is typically conducted when you have a specific question that you want to answer. \n",
    "\n",
    "Example: \"Analyze what drives users to make purchases. What drives users to engage with marketing campaigns more? What makes users purchase items from the retail shop?\""
   ]
  },
  {
   "cell_type": "markdown",
   "metadata": {},
   "source": [
    "**Predictive analysis:**\n",
    "\n",
    "Conducted when there is a specific future event that would like to predict. The purpose of this analysis is to build machine learning models that learn from the historical data and make predictions about events that will happen in the future.\n",
    "\n",
    "Example: \"Which user is the most likely to make a purchase within the next seven days?\""
   ]
  },
  {
   "cell_type": "markdown",
   "metadata": {},
   "source": [
    "### Types of learning algorithms"
   ]
  },
  {
   "cell_type": "markdown",
   "metadata": {},
   "source": [
    "**Supervised learning algorithms:** Used when the prediction target or outcome is known. For example, if we want to use machine learning to predict who will make purchases in the next few days, then we will use supervised learning algorithms. Here the prediction target or outcome is whether this person made a purchase within the given time window or not. Based on the historical purchase data, we will need to build features, which describe each data point, such as a user's age, address, last purchase date, and then supervised learning algorithm will learn from this data how to map these features to the prediction target or outcome. "
   ]
  },
  {
   "cell_type": "markdown",
   "metadata": {},
   "source": [
    "**Unsupervised learning algorithms:** Used when we do not have a specific prediction target or outcome. In clustering and recommendation systems. As an example, you can use unsupervised learning algorithms to cluster your customer base into different subgroups or segments, based on their behaviors. In this case, we do not have a specific target or outcome that we want to predict. We are just grouping similar customers together into different segments. "
   ]
  },
  {
   "cell_type": "markdown",
   "metadata": {},
   "source": [
    "**Reinforcement learning algorithms:** Used when we want the model to continuously learn and train itself without prior knowledge or experience. The model learns how to make predictions after lots of trials and errors. One example of the application of reinforcement learning in marketing is when there are multiple marketing strategies you'd like to test and choose the one that works the best. In this case, you can run a reinforcement learning algorithm, where it randomly picks one strategy at a time and gets rewarded when a positive outcome occurs. After multiple iterations of trials and errors, the reinforcement learning model will have learned to choose the best marketing strategy, based on the total rewards each marketing strategies have earned"
   ]
  },
  {
   "cell_type": "markdown",
   "metadata": {},
   "source": [
    "### Data science workflow"
   ]
  },
  {
   "cell_type": "markdown",
   "metadata": {},
   "source": [
    "**Data science workflow:**\n",
    "1. Problem definition: Define the problems that you are trying to solve with data science, the scope of the project, and the approaches to solving this problem. Brainstorm on what types of analyses (descriptive, explanatory, predictive) and types of learning algorithms (supervised, unsupervised, reinforcement) that will be suitable for solving the given problem\n",
    "2. Data collection: Gather all the data needed to proceed with data science project. Purchase data from third-party vendors, scrape and extract data from the web, or use publicly available data, collect data from internal systems.\n",
    "3. Data preparation: Transform the data and prepare it for future steps. Structure in tabular format. \n",
    "4. Data analysis: Descriptive analyses to compute some descriptive summary statistics and build visual plots to better understand the data. Find some recognizable patterns and draw some insight from the data. Find anomalies in the data such as missing values, corrupted data, or duplicated records\n",
    "5. Feature engineering: Feature engineering is the most important part of data science and machine learning, as it directly affects the performance of predictive models. Feature engineering requires expertise and good domain knowledge of the data, as it requires you to transform the raw data into more informative data for your algorithms to learn from. One good example of feature engineering is transforming text data into numerical data. As the machine learning algorithms can only learn from numerical data, you will need to come up with an idea and strategy to translate textual data into numerical data\n",
    "6. Model building: Train and test machine learning models. Experiment with various learning algorithms to figure out which one works the best for the use case. One thing to keep in mind in this step is the validation metrics. It is important to have a good measure of the model performance, as machine learning algorithms will try to optimize on the given performance measure.\n"
   ]
  },
  {
   "cell_type": "markdown",
   "metadata": {},
   "source": [
    "## 1.4 Setting up the python environment"
   ]
  },
  {
   "cell_type": "markdown",
   "metadata": {},
   "source": [
    "**Installing the Anaconda distribution**"
   ]
  },
  {
   "cell_type": "markdown",
   "metadata": {},
   "source": [
    "**A simple logistic regression model in python**"
   ]
  },
  {
   "cell_type": "code",
   "execution_count": 1,
   "metadata": {},
   "outputs": [
    {
     "data": {
      "text/plain": [
       "LogisticRegression(C=1.0, class_weight=None, dual=False, fit_intercept=True,\n",
       "                   intercept_scaling=1, l1_ratio=None, max_iter=100,\n",
       "                   multi_class='auto', n_jobs=None, penalty='l2',\n",
       "                   random_state=None, solver='lbfgs', tol=0.0001, verbose=0,\n",
       "                   warm_start=False)"
      ]
     },
     "execution_count": 1,
     "metadata": {},
     "output_type": "execute_result"
    }
   ],
   "source": [
    "import numpy as np\n",
    "from sklearn.linear_model import LogisticRegression\n",
    "\n",
    "input_data = np.array([\n",
    "    [0, 0],\n",
    "    [0.25, 0.25],\n",
    "    [0.5, 0.5],\n",
    "    [1, 1],\n",
    "])\n",
    "\n",
    "output_data = [\n",
    "    0,\n",
    "    0,\n",
    "    1,\n",
    "    1\n",
    "]\n",
    "\n",
    "logit_model = LogisticRegression()\n",
    "logit_model.fit(input_data, output_data)\n",
    "logit_model"
   ]
  },
  {
   "cell_type": "code",
   "execution_count": 4,
   "metadata": {},
   "outputs": [
    {
     "name": "stdout",
     "output_type": "stream",
     "text": [
      "[[0.49290987 0.49290987]]\n",
      "[-0.42954641]\n"
     ]
    }
   ],
   "source": [
    "print(logit_model.coef_)\n",
    "print(logit_model.intercept_)"
   ]
  },
  {
   "cell_type": "code",
   "execution_count": 5,
   "metadata": {},
   "outputs": [
    {
     "data": {
      "text/plain": [
       "array([0, 0, 1, 1])"
      ]
     },
     "execution_count": 5,
     "metadata": {},
     "output_type": "execute_result"
    }
   ],
   "source": [
    "predicted_output = logit_model.predict(input_data)\n",
    "predicted_output"
   ]
  },
  {
   "cell_type": "code",
   "execution_count": 7,
   "metadata": {},
   "outputs": [
    {
     "data": {
      "image/png": "[encoded data removed]",
      "text/plain": [
       "<Figure size 432x288 with 1 Axes>"
      ]
     },
     "metadata": {
      "needs_background": "light"
     },
     "output_type": "display_data"
    }
   ],
   "source": [
    "%matplotlib inline\n",
    "import matplotlib.pyplot as plt\n",
    "\n",
    "plt.scatter(\n",
    "    x = input_data[:,0],\n",
    "    y = input_data[:,1],\n",
    "    color = [('red' if x == 1 else 'blue') for x in output_data]\n",
    ")\n",
    "\n",
    "plt.xlabel('X')\n",
    "plt.ylabel('Y')\n",
    "plt.title('Actual')\n",
    "plt.grid()\n",
    "plt.show()"
   ]
  },
  {
   "cell_type": "markdown",
   "metadata": {},
   "source": [
    "## 1.5 Setting up the r environment"
   ]
  },
  {
   "cell_type": "markdown",
   "metadata": {},
   "source": [
    "## 1.6 Summary"
   ]
  }
 ],
 "metadata": {
  "kernelspec": {
   "display_name": "Python 3",
   "language": "python",
   "name": "python3"
  },
  "language_info": {
   "codemirror_mode": {
    "name": "ipython",
    "version": 3
   },
   "file_extension": ".py",
   "mimetype": "text/x-python",
   "name": "python",
   "nbconvert_exporter": "python",
   "pygments_lexer": "ipython3",
   "version": "3.8.1"
  }
 },
 "nbformat": 4,
 "nbformat_minor": 4
}
